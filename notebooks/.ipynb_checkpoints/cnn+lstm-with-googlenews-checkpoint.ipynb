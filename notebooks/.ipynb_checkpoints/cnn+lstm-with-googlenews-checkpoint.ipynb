{
 "cells": [
  {
   "cell_type": "code",
   "execution_count": 1,
   "metadata": {
    "_cell_guid": "b1076dfc-b9ad-4769-8c92-a6c4dae69d19",
    "_uuid": "8f2839f25d086af736a60e9eeb907d3b93b6e0e5"
   },
   "outputs": [
    {
     "name": "stdout",
     "output_type": "stream",
     "text": [
      "['train.csv', 'test.csv', 'sample_submission.csv', 'embeddings']\n"
     ]
    }
   ],
   "source": [
    "# This Python 3 environment comes with many helpful analytics libraries installed\n",
    "# It is defined by the kaggle/python docker image: https://github.com/kaggle/docker-python\n",
    "# For example, here's several helpful packages to load in \n",
    "\n",
    "import numpy as np # linear algebra\n",
    "import pandas as pd # data processing, CSV file I/O (e.g. pd.read_csv)\n",
    "\n",
    "# Input data files are available in the \"../input/\" directory.\n",
    "# For example, running this (by clicking run or pressing Shift+Enter) will list the files in the input directory\n",
    "\n",
    "import os\n",
    "print(os.listdir(\"../input\"))\n",
    "\n",
    "# Any results you write to the current directory are saved as output."
   ]
  },
  {
   "cell_type": "code",
   "execution_count": 2,
   "metadata": {
    "_cell_guid": "79c7e3d0-c299-4dcb-8224-4455121ee9b0",
    "_uuid": "d629ff2d2480ee46fbb7e2d37f6b5fab8052498a"
   },
   "outputs": [
    {
     "name": "stdout",
     "output_type": "stream",
     "text": [
      "Train shape :  (1306122, 3)\n",
      "Test shape :  (375806, 2)\n"
     ]
    }
   ],
   "source": [
    "train_df = pd.read_csv(\"../input/train.csv\")\n",
    "test_df = pd.read_csv(\"../input/test.csv\")\n",
    "print(\"Train shape : \",train_df.shape)\n",
    "print(\"Test shape : \",test_df.shape)"
   ]
  },
  {
   "cell_type": "code",
   "execution_count": 3,
   "metadata": {},
   "outputs": [
    {
     "name": "stderr",
     "output_type": "stream",
     "text": [
      "Using TensorFlow backend.\n"
     ]
    }
   ],
   "source": [
    "from keras.preprocessing.text import Tokenizer\n",
    "from keras.preprocessing.sequence import pad_sequences\n",
    "\n",
    "max_features = 100000\n",
    "\n",
    "tokenizer = Tokenizer(num_words=max_features, lower=True)\n",
    "full_text = list(train_df['question_text'].values)\n",
    "tokenizer.fit_on_texts(full_text)\n",
    "\n",
    "train_tokenized = tokenizer.texts_to_sequences(train_df['question_text'].fillna('missing'))\n",
    "test_tokenized = tokenizer.texts_to_sequences(test_df['question_text'].fillna('missing'))"
   ]
  },
  {
   "cell_type": "code",
   "execution_count": 4,
   "metadata": {
    "_kg_hide-output": false
   },
   "outputs": [],
   "source": [
    "max_len = 72\n",
    "train_X = pad_sequences(train_tokenized, maxlen=max_len)\n",
    "test_X = pad_sequences(test_tokenized, maxlen=max_len)\n",
    "train_y = train_df.target.values"
   ]
  },
  {
   "cell_type": "code",
   "execution_count": 5,
   "metadata": {},
   "outputs": [],
   "source": [
    "from gensim.models import KeyedVectors\n",
    "from gensim.test.utils import datapath, get_tmpfile\n",
    "from gensim.scripts.glove2word2vec import glove2word2vec\n",
    "\n",
    "news_path = '../input/embeddings/GoogleNews-vectors-negative300/GoogleNews-vectors-negative300.bin'\n",
    "embeddings = KeyedVectors.load_word2vec_format(news_path, binary=True)\n"
   ]
  },
  {
   "cell_type": "code",
   "execution_count": 6,
   "metadata": {},
   "outputs": [],
   "source": [
    "mean = np.mean(embeddings.vectors)\n",
    "std = np.std(embeddings.vectors)\n"
   ]
  },
  {
   "cell_type": "code",
   "execution_count": 7,
   "metadata": {
    "_kg_hide-output": false
   },
   "outputs": [],
   "source": [
    "_, size = embeddings.vectors.shape\n",
    "num_words = min(len(tokenizer.word_index), max_features)\n",
    "embedding_matrix = np.random.normal(mean, std, (num_words, size))\n"
   ]
  },
  {
   "cell_type": "code",
   "execution_count": 8,
   "metadata": {
    "_kg_hide-output": false
   },
   "outputs": [
    {
     "name": "stdout",
     "output_type": "stream",
     "text": [
      "(100000, 300)\n"
     ]
    }
   ],
   "source": [
    "for word, index in tokenizer.word_index.items():\n",
    "    if index >= max_features: continue\n",
    "    try:\n",
    "        word_vector = embeddings.get_vector(word)\n",
    "        embedding_matrix[index] = word_vector\n",
    "    except:\n",
    "        pass\n",
    "print(embedding_matrix.shape)"
   ]
  },
  {
   "cell_type": "code",
   "execution_count": 9,
   "metadata": {},
   "outputs": [],
   "source": [
    "import torch\n",
    "import torch.nn as nn\n",
    "import torch.nn.functional as F\n",
    "import torch.optim as optim\n",
    "import random\n",
    "from tqdm import  tqdm\n",
    "tqdm.pandas()\n",
    "\n",
    "def seed_torch(seed=0):\n",
    "    random.seed(seed)\n",
    "    os.environ['PYTHONHASHSEED'] = str(seed)\n",
    "    np.random.seed(seed)\n",
    "    torch.manual_seed(seed)\n",
    "    torch.cuda.manual_seed(seed)\n",
    "    torch.backends.cudnn.deterministic = True\n",
    "    \n",
    "seed = 0\n",
    "seed_torch(seed)\n",
    "\n",
    "def sigmoid(x):\n",
    "    return 1 / (1 + np.exp(-x))\n",
    "\n",
    "class CNN(nn.Module):\n",
    "    def __init__(self):\n",
    "        super().__init__()\n",
    "        self.embedding = nn.Embedding(max_features, size)\n",
    "        self.embedding.weight = nn.Parameter(torch.tensor(embedding_matrix, dtype=torch.float32))\n",
    "        self.embedding.weight.requires_grad = False\n",
    "        \n",
    "        self.conv_0 = nn.Conv2d(in_channels=1, out_channels=100, kernel_size=(3, size))\n",
    "        self.conv_1 = nn.Conv2d(in_channels=1, out_channels=100, kernel_size=(4, size))\n",
    "        self.conv_2 = nn.Conv2d(in_channels=1, out_channels=100, kernel_size=(5, size))\n",
    "        \n",
    "        self.lstm = nn.LSTM(300, 128)\n",
    "        self.fc = nn.Linear(128, 1)\n",
    "        self.dropout = nn.Dropout(0.1)\n",
    "        \n",
    "    def forward(self, text):\n",
    "        embedded = self.embedding(text)\n",
    "        embedded = embedded.unsqueeze(1)\n",
    "        conved_0 = F.relu(self.conv_0(embedded).squeeze(3))\n",
    "        conved_1 = F.relu(self.conv_1(embedded).squeeze(3))\n",
    "        conved_2 = F.relu(self.conv_2(embedded).squeeze(3))\n",
    "        \n",
    "        pooled_0 = F.max_pool1d(conved_0, conved_0.shape[2]).squeeze(2)\n",
    "        pooled_1 = F.max_pool1d(conved_1, conved_1.shape[2]).squeeze(2)\n",
    "        pooled_2 = F.max_pool1d(conved_2, conved_2.shape[2]).squeeze(2)\n",
    "        \n",
    "        cat = self.dropout(torch.cat((pooled_0, pooled_1, pooled_2), dim=1))\n",
    "        cat = cat.unsqueeze(0)\n",
    "        output, (hn, cn) = self.lstm(cat) # sequence length is one, not exactly using the advantage of lstm\n",
    "        \n",
    "        return self.fc(hn.squeeze(0))\n",
    "        \n",
    "        \n",
    "    "
   ]
  },
  {
   "cell_type": "code",
   "execution_count": 10,
   "metadata": {},
   "outputs": [
    {
     "name": "stdout",
     "output_type": "stream",
     "text": [
      "<class 'numpy.ndarray'> (1306122, 72)\n",
      "<class 'numpy.ndarray'> (1306122,)\n",
      "Fold:0\n"
     ]
    },
    {
     "name": "stderr",
     "output_type": "stream",
     "text": [
      "/opt/conda/lib/python3.6/site-packages/ipykernel_launcher.py:26: UserWarning: To copy construct from a tensor, it is recommended to use sourceTensor.clone().detach() or sourceTensor.clone().detach().requires_grad_(True), rather than torch.tensor(sourceTensor).\n",
      "/opt/conda/lib/python3.6/site-packages/ipykernel_launcher.py:27: UserWarning: To copy construct from a tensor, it is recommended to use sourceTensor.clone().detach() or sourceTensor.clone().detach().requires_grad_(True), rather than torch.tensor(sourceTensor).\n",
      "/opt/conda/lib/python3.6/site-packages/ipykernel_launcher.py:28: UserWarning: To copy construct from a tensor, it is recommended to use sourceTensor.clone().detach() or sourceTensor.clone().detach().requires_grad_(True), rather than torch.tensor(sourceTensor).\n",
      "/opt/conda/lib/python3.6/site-packages/ipykernel_launcher.py:29: UserWarning: To copy construct from a tensor, it is recommended to use sourceTensor.clone().detach() or sourceTensor.clone().detach().requires_grad_(True), rather than torch.tensor(sourceTensor).\n"
     ]
    },
    {
     "name": "stdout",
     "output_type": "stream",
     "text": [
      "Epoch 1/5 \t loss=0.1184 \t val_loss=0.1099 \t time=94.13s\n",
      "Epoch 2/5 \t loss=0.1046 \t val_loss=0.1081 \t time=93.77s\n",
      "Epoch 3/5 \t loss=0.0956 \t val_loss=0.1084 \t time=93.78s\n",
      "Epoch 4/5 \t loss=0.0859 \t val_loss=0.1136 \t time=94.43s\n",
      "Epoch 5/5 \t loss=0.0772 \t val_loss=0.1194 \t time=93.72s\n",
      "Fold:1\n",
      "Epoch 1/5 \t loss=0.1191 \t val_loss=0.1099 \t time=93.10s\n",
      "Epoch 2/5 \t loss=0.1048 \t val_loss=0.1073 \t time=93.14s\n",
      "Epoch 3/5 \t loss=0.0955 \t val_loss=0.1091 \t time=92.79s\n",
      "Epoch 4/5 \t loss=0.0861 \t val_loss=0.1095 \t time=93.30s\n",
      "Epoch 5/5 \t loss=0.0771 \t val_loss=0.1165 \t time=93.22s\n",
      "Fold:2\n",
      "Epoch 1/5 \t loss=0.1184 \t val_loss=0.1092 \t time=92.91s\n",
      "Epoch 2/5 \t loss=0.1042 \t val_loss=0.1067 \t time=92.97s\n",
      "Epoch 3/5 \t loss=0.0949 \t val_loss=0.1083 \t time=93.87s\n",
      "Epoch 4/5 \t loss=0.0854 \t val_loss=0.1109 \t time=94.31s\n",
      "Epoch 5/5 \t loss=0.0766 \t val_loss=0.1176 \t time=93.91s\n",
      "Fold:3\n",
      "Epoch 1/5 \t loss=0.1191 \t val_loss=0.1094 \t time=94.00s\n",
      "Epoch 2/5 \t loss=0.1049 \t val_loss=0.1058 \t time=94.02s\n",
      "Epoch 3/5 \t loss=0.0957 \t val_loss=0.1059 \t time=93.99s\n",
      "Epoch 4/5 \t loss=0.0865 \t val_loss=0.1102 \t time=94.18s\n",
      "Epoch 5/5 \t loss=0.0778 \t val_loss=0.1150 \t time=94.07s\n"
     ]
    }
   ],
   "source": [
    "from sklearn.model_selection import StratifiedKFold\n",
    "from torch.utils.data import DataLoader, TensorDataset\n",
    "import time\n",
    "import re\n",
    "import random\n",
    "from sklearn.metrics import f1_score\n",
    "\n",
    "splits = list(StratifiedKFold(n_splits=4, shuffle=True, random_state=0).split(train_X, train_y))\n",
    "train_epochs = 5\n",
    "batch_size = 64\n",
    "\n",
    "print(type(train_X), train_X.shape)\n",
    "print(type(train_y), train_y.shape)\n",
    "train_X = torch.Tensor(train_X)\n",
    "train_y = torch.Tensor(train_y)\n",
    "\n",
    "train_preds = np.zeros((len(train_X)))\n",
    "test_preds = np.zeros((len(test_X)))\n",
    "\n",
    "x_test_cuda = torch.tensor(test_X, dtype=torch.long).cuda()\n",
    "test = torch.utils.data.TensorDataset(x_test_cuda)\n",
    "test_loader = torch.utils.data.DataLoader(test, batch_size=batch_size, shuffle=False)\n",
    "\n",
    "for i, (train_idx, valid_idx) in enumerate(splits):\n",
    "    print('Fold:{0}'.format(i))\n",
    "    x_train_fold = torch.tensor(train_X[train_idx], dtype=torch.long).cuda()\n",
    "    y_train_fold = torch.tensor(train_y[train_idx, np.newaxis], dtype=torch.float32).cuda()\n",
    "    x_val_fold = torch.tensor(train_X[valid_idx], dtype=torch.long).cuda()\n",
    "    y_val_fold = torch.tensor(train_y[valid_idx, np.newaxis], dtype=torch.float32).cuda()\n",
    "    \n",
    "    train_data = torch.utils.data.TensorDataset(x_train_fold, y_train_fold)\n",
    "    valid_data = torch.utils.data.TensorDataset(x_val_fold, y_val_fold)\n",
    "    \n",
    "    train_loader = torch.utils.data.DataLoader(train_data, batch_size=batch_size, shuffle=True)\n",
    "    valid_loader = torch.utils.data.DataLoader(valid_data, batch_size=batch_size, shuffle=False)\n",
    "    \n",
    "    model = CNN()\n",
    "    model.cuda()\n",
    "    loss_function = nn.BCEWithLogitsLoss()\n",
    "    optimiser = optim.Adam(model.parameters())\n",
    "    \n",
    "    for epoch in range(train_epochs):\n",
    "        start_time = time.time()\n",
    "        model.train()\n",
    "        avg_loss = 0.0\n",
    "        # train  model\n",
    "        for x_batch, y_batch in tqdm(train_loader, disable=True):\n",
    "            y_predicted = model(x_batch)\n",
    "            loss = loss_function(y_predicted, y_batch)\n",
    "            optimiser.zero_grad()\n",
    "            loss.backward()\n",
    "            optimiser.step()\n",
    "            avg_loss += loss.item()/len(train_loader)\n",
    "\n",
    "        # evaluate model\n",
    "        model.eval()\n",
    "        val_predicted_fold = np.zeros(x_val_fold.size(0))\n",
    "        test_predicted_fold = np.zeros(len(test_X))\n",
    "        avg_val_loss =0.0\n",
    "\n",
    "        for i, (x_batch, y_batch) in enumerate(valid_loader):\n",
    "            y_predicted = model(x_batch).detach()\n",
    "            avg_val_loss += loss_function(y_predicted, y_batch).item()/len(valid_loader)\n",
    "            val_predicted_fold[i*batch_size:(i+1)*batch_size] = sigmoid(y_predicted.cpu().numpy())[:,0]   \n",
    "\n",
    "        elapsed_time = time.time() - start_time\n",
    "        print('Epoch {}/{} \\t loss={:.4f} \\t val_loss={:.4f} \\t time={:.2f}s'.format(epoch + 1,\n",
    "                                                        train_epochs, avg_loss, avg_val_loss, elapsed_time))\n",
    "    # predict testing dataset\n",
    "    test_predicted_fold = np.zeros(len(test_X))\n",
    "    for i, (x_batch,) in enumerate(test_loader):\n",
    "        y_pred = model(x_batch).detach()\n",
    "        test_predicted_fold[i * batch_size:(i+1) * batch_size] = sigmoid(y_pred.cpu().numpy())[:, 0]\n",
    "    \n",
    "    train_preds[valid_idx] = val_predicted_fold\n",
    "    test_preds += test_predicted_fold / len(splits) # take average"
   ]
  },
  {
   "cell_type": "code",
   "execution_count": 11,
   "metadata": {},
   "outputs": [],
   "source": [
    "def threshold_search(y_true, y_proba):\n",
    "    best_threshold = 0\n",
    "    best_score = 0\n",
    "    for threshold in tqdm([i * 0.01 for i in range(100)]):\n",
    "        score = f1_score(y_true=y_true, y_pred=y_proba > threshold)\n",
    "        if score > best_score:\n",
    "            best_threshold = threshold\n",
    "            best_score = score\n",
    "    search_result = {'threshold': best_threshold, 'f1': best_score}\n",
    "    return search_result"
   ]
  },
  {
   "cell_type": "code",
   "execution_count": 12,
   "metadata": {},
   "outputs": [
    {
     "name": "stderr",
     "output_type": "stream",
     "text": [
      " 96%|█████████▌| 96/100 [00:26<00:01,  3.76it/s]/opt/conda/lib/python3.6/site-packages/sklearn/metrics/classification.py:1143: UndefinedMetricWarning: F-score is ill-defined and being set to 0.0 due to no predicted samples.\n",
      "  'precision', 'predicted', average, warn_for)\n",
      "100%|██████████| 100/100 [00:27<00:00,  3.73it/s]\n"
     ]
    },
    {
     "data": {
      "text/plain": [
       "{'threshold': 0.34, 'f1': 0.6413765228939314}"
      ]
     },
     "execution_count": 12,
     "metadata": {},
     "output_type": "execute_result"
    }
   ],
   "source": [
    "search_result = threshold_search(train_y, train_preds)\n",
    "search_result"
   ]
  },
  {
   "cell_type": "code",
   "execution_count": 13,
   "metadata": {},
   "outputs": [],
   "source": [
    "sub = pd.read_csv('../input/sample_submission.csv')\n",
    "sub.prediction = test_preds > search_result['threshold']\n",
    "sub.to_csv(\"submission.csv\", index=False)"
   ]
  },
  {
   "cell_type": "markdown",
   "metadata": {},
   "source": [
    "public score:0.66144"
   ]
  }
 ],
 "metadata": {
  "kernelspec": {
   "display_name": "Python 3",
   "language": "python",
   "name": "python3"
  },
  "language_info": {
   "codemirror_mode": {
    "name": "ipython",
    "version": 3
   },
   "file_extension": ".py",
   "mimetype": "text/x-python",
   "name": "python",
   "nbconvert_exporter": "python",
   "pygments_lexer": "ipython3",
   "version": "3.7.1"
  }
 },
 "nbformat": 4,
 "nbformat_minor": 1
}
