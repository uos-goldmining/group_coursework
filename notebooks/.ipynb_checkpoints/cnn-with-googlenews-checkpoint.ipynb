{
 "cells": [
  {
   "cell_type": "code",
   "execution_count": 1,
   "metadata": {
    "_cell_guid": "b1076dfc-b9ad-4769-8c92-a6c4dae69d19",
    "_uuid": "8f2839f25d086af736a60e9eeb907d3b93b6e0e5"
   },
   "outputs": [
    {
     "name": "stdout",
     "output_type": "stream",
     "text": [
      "['train.csv', 'test.csv', 'sample_submission.csv', 'embeddings']\n"
     ]
    }
   ],
   "source": [
    "# This Python 3 environment comes with many helpful analytics libraries installed\n",
    "# It is defined by the kaggle/python docker image: https://github.com/kaggle/docker-python\n",
    "# For example, here's several helpful packages to load in \n",
    "\n",
    "import numpy as np # linear algebra\n",
    "import pandas as pd # data processing, CSV file I/O (e.g. pd.read_csv)\n",
    "\n",
    "# Input data files are available in the \"../input/\" directory.\n",
    "# For example, running this (by clicking run or pressing Shift+Enter) will list the files in the input directory\n",
    "\n",
    "import os\n",
    "print(os.listdir(\"../input\"))\n",
    "\n",
    "# Any results you write to the current directory are saved as output."
   ]
  },
  {
   "cell_type": "code",
   "execution_count": 2,
   "metadata": {
    "_cell_guid": "79c7e3d0-c299-4dcb-8224-4455121ee9b0",
    "_uuid": "d629ff2d2480ee46fbb7e2d37f6b5fab8052498a"
   },
   "outputs": [
    {
     "name": "stdout",
     "output_type": "stream",
     "text": [
      "Train shape :  (1306122, 3)\n",
      "Test shape :  (375806, 2)\n"
     ]
    }
   ],
   "source": [
    "train_df = pd.read_csv(\"../input/train.csv\")\n",
    "test_df = pd.read_csv(\"../input/test.csv\")\n",
    "print(\"Train shape : \",train_df.shape)\n",
    "print(\"Test shape : \",test_df.shape)"
   ]
  },
  {
   "cell_type": "code",
   "execution_count": 3,
   "metadata": {},
   "outputs": [
    {
     "name": "stderr",
     "output_type": "stream",
     "text": [
      "Using TensorFlow backend.\n"
     ]
    }
   ],
   "source": [
    "from keras.preprocessing.text import Tokenizer\n",
    "from keras.preprocessing.sequence import pad_sequences\n",
    "\n",
    "max_features = 100000\n",
    "\n",
    "tokenizer = Tokenizer(num_words=max_features, lower=True)\n",
    "full_text = list(train_df['question_text'].values)\n",
    "tokenizer.fit_on_texts(full_text)\n",
    "\n",
    "train_tokenized = tokenizer.texts_to_sequences(train_df['question_text'].fillna('missing'))\n",
    "test_tokenized = tokenizer.texts_to_sequences(test_df['question_text'].fillna('missing'))"
   ]
  },
  {
   "cell_type": "code",
   "execution_count": 4,
   "metadata": {
    "_kg_hide-output": false
   },
   "outputs": [],
   "source": [
    "max_len = 72\n",
    "train_X = pad_sequences(train_tokenized, maxlen=max_len)\n",
    "test_X = pad_sequences(test_tokenized, maxlen=max_len)\n",
    "train_y = train_df.target.values"
   ]
  },
  {
   "cell_type": "code",
   "execution_count": 5,
   "metadata": {},
   "outputs": [],
   "source": [
    "from gensim.models import KeyedVectors\n",
    "from gensim.test.utils import datapath, get_tmpfile\n",
    "from gensim.scripts.glove2word2vec import glove2word2vec\n",
    "\n",
    "news_path = '../input/embeddings/GoogleNews-vectors-negative300/GoogleNews-vectors-negative300.bin'\n",
    "embeddings = KeyedVectors.load_word2vec_format(news_path, binary=True)\n"
   ]
  },
  {
   "cell_type": "code",
   "execution_count": 6,
   "metadata": {},
   "outputs": [],
   "source": [
    "mean = np.mean(embeddings.vectors)\n",
    "std = np.std(embeddings.vectors)\n"
   ]
  },
  {
   "cell_type": "code",
   "execution_count": 7,
   "metadata": {
    "_kg_hide-output": false
   },
   "outputs": [],
   "source": [
    "_, size = embeddings.vectors.shape\n",
    "num_words = min(len(tokenizer.word_index), max_features)\n",
    "embedding_matrix = np.random.normal(mean, std, (num_words, size))\n"
   ]
  },
  {
   "cell_type": "code",
   "execution_count": 8,
   "metadata": {
    "_kg_hide-output": false
   },
   "outputs": [
    {
     "name": "stdout",
     "output_type": "stream",
     "text": [
      "(100000, 300)\n"
     ]
    }
   ],
   "source": [
    "for word, index in tokenizer.word_index.items():\n",
    "    if index >= max_features: continue\n",
    "    try:\n",
    "        word_vector = embeddings.get_vector(word)\n",
    "        embedding_matrix[index] = word_vector\n",
    "    except:\n",
    "        pass\n",
    "print(embedding_matrix.shape)"
   ]
  },
  {
   "cell_type": "code",
   "execution_count": 9,
   "metadata": {},
   "outputs": [],
   "source": [
    "import torch\n",
    "import torch.nn as nn\n",
    "import torch.nn.functional as F\n",
    "import torch.optim as optim\n",
    "import random\n",
    "from tqdm import  tqdm\n",
    "tqdm.pandas()\n",
    "\n",
    "def seed_torch(seed=0):\n",
    "    random.seed(seed)\n",
    "    os.environ['PYTHONHASHSEED'] = str(seed)\n",
    "    np.random.seed(seed)\n",
    "    torch.manual_seed(seed)\n",
    "    torch.cuda.manual_seed(seed)\n",
    "    torch.backends.cudnn.deterministic = True\n",
    "    \n",
    "seed = 0\n",
    "seed_torch(seed)\n",
    "\n",
    "def sigmoid(x):\n",
    "    return 1 / (1 + np.exp(-x))\n",
    "\n",
    "class CNN(nn.Module):\n",
    "    def __init__(self):\n",
    "        super().__init__()\n",
    "        self.embedding = nn.Embedding(max_features, size)\n",
    "        self.embedding.weight = nn.Parameter(torch.tensor(embedding_matrix, dtype=torch.float32))\n",
    "        self.embedding.weight.requires_grad = False\n",
    "        \n",
    "        self.conv_0 = nn.Conv2d(in_channels=1, out_channels=100, kernel_size=(3, size))\n",
    "        self.conv_1 = nn.Conv2d(in_channels=1, out_channels=100, kernel_size=(4, size))\n",
    "        self.conv_2 = nn.Conv2d(in_channels=1, out_channels=100, kernel_size=(5, size))\n",
    "        self.fc = nn.Linear(3 * 100, 1)\n",
    "        self.dropout = nn.Dropout(0.1)\n",
    "        \n",
    "    def forward(self, text):\n",
    "        embedded = self.embedding(text)\n",
    "        embedded = embedded.unsqueeze(1)\n",
    "        conved_0 = F.relu(self.conv_0(embedded).squeeze(3))\n",
    "        conved_1 = F.relu(self.conv_1(embedded).squeeze(3))\n",
    "        conved_2 = F.relu(self.conv_2(embedded).squeeze(3))\n",
    "        \n",
    "        pooled_0 = F.max_pool1d(conved_0, conved_0.shape[2]).squeeze(2)\n",
    "        pooled_1 = F.max_pool1d(conved_1, conved_1.shape[2]).squeeze(2)\n",
    "        pooled_2 = F.max_pool1d(conved_2, conved_2.shape[2]).squeeze(2)\n",
    "        \n",
    "        cat = self.dropout(torch.cat((pooled_0, pooled_1, pooled_2), dim=1))\n",
    "        return self.fc(cat)\n",
    "        \n",
    "        \n",
    "    "
   ]
  },
  {
   "cell_type": "code",
   "execution_count": 10,
   "metadata": {},
   "outputs": [
    {
     "name": "stdout",
     "output_type": "stream",
     "text": [
      "<class 'numpy.ndarray'> (1306122, 72)\n",
      "<class 'numpy.ndarray'> (1306122,)\n",
      "Fold:0\n"
     ]
    },
    {
     "name": "stderr",
     "output_type": "stream",
     "text": [
      "/opt/conda/lib/python3.6/site-packages/ipykernel_launcher.py:26: UserWarning: To copy construct from a tensor, it is recommended to use sourceTensor.clone().detach() or sourceTensor.clone().detach().requires_grad_(True), rather than torch.tensor(sourceTensor).\n",
      "/opt/conda/lib/python3.6/site-packages/ipykernel_launcher.py:27: UserWarning: To copy construct from a tensor, it is recommended to use sourceTensor.clone().detach() or sourceTensor.clone().detach().requires_grad_(True), rather than torch.tensor(sourceTensor).\n",
      "/opt/conda/lib/python3.6/site-packages/ipykernel_launcher.py:28: UserWarning: To copy construct from a tensor, it is recommended to use sourceTensor.clone().detach() or sourceTensor.clone().detach().requires_grad_(True), rather than torch.tensor(sourceTensor).\n",
      "/opt/conda/lib/python3.6/site-packages/ipykernel_launcher.py:29: UserWarning: To copy construct from a tensor, it is recommended to use sourceTensor.clone().detach() or sourceTensor.clone().detach().requires_grad_(True), rather than torch.tensor(sourceTensor).\n"
     ]
    },
    {
     "name": "stdout",
     "output_type": "stream",
     "text": [
      "Epoch 1/5 \t loss=0.1206 \t val_loss=0.1145 \t time=85.33s\n",
      "Epoch 2/5 \t loss=0.1090 \t val_loss=0.1107 \t time=84.57s\n",
      "Epoch 3/5 \t loss=0.1006 \t val_loss=0.1120 \t time=84.61s\n",
      "Epoch 4/5 \t loss=0.0923 \t val_loss=0.1147 \t time=84.71s\n",
      "Epoch 5/5 \t loss=0.0835 \t val_loss=0.1205 \t time=84.80s\n",
      "Fold:1\n",
      "Epoch 1/5 \t loss=0.1210 \t val_loss=0.1197 \t time=84.49s\n",
      "Epoch 2/5 \t loss=0.1089 \t val_loss=0.1101 \t time=84.46s\n",
      "Epoch 3/5 \t loss=0.1007 \t val_loss=0.1107 \t time=84.83s\n",
      "Epoch 4/5 \t loss=0.0922 \t val_loss=0.1158 \t time=84.69s\n",
      "Epoch 5/5 \t loss=0.0839 \t val_loss=0.1200 \t time=84.54s\n",
      "Fold:2\n",
      "Epoch 1/5 \t loss=0.1205 \t val_loss=0.1127 \t time=84.67s\n",
      "Epoch 2/5 \t loss=0.1090 \t val_loss=0.1098 \t time=84.79s\n",
      "Epoch 3/5 \t loss=0.1009 \t val_loss=0.1098 \t time=84.63s\n",
      "Epoch 4/5 \t loss=0.0928 \t val_loss=0.1173 \t time=84.73s\n",
      "Epoch 5/5 \t loss=0.0844 \t val_loss=0.1184 \t time=84.85s\n",
      "Fold:3\n",
      "Epoch 1/5 \t loss=0.1209 \t val_loss=0.1127 \t time=84.50s\n",
      "Epoch 2/5 \t loss=0.1093 \t val_loss=0.1094 \t time=84.45s\n",
      "Epoch 3/5 \t loss=0.1008 \t val_loss=0.1127 \t time=84.54s\n",
      "Epoch 4/5 \t loss=0.0921 \t val_loss=0.1194 \t time=84.52s\n",
      "Epoch 5/5 \t loss=0.0835 \t val_loss=0.1202 \t time=84.32s\n"
     ]
    }
   ],
   "source": [
    "from sklearn.model_selection import StratifiedKFold\n",
    "from torch.utils.data import DataLoader, TensorDataset\n",
    "import time\n",
    "import re\n",
    "import random\n",
    "from sklearn.metrics import f1_score\n",
    "\n",
    "splits = list(StratifiedKFold(n_splits=4, shuffle=True, random_state=0).split(train_X, train_y))\n",
    "train_epochs = 5\n",
    "batch_size = 64\n",
    "\n",
    "print(type(train_X), train_X.shape)\n",
    "print(type(train_y), train_y.shape)\n",
    "train_X = torch.Tensor(train_X)\n",
    "train_y = torch.Tensor(train_y)\n",
    "\n",
    "train_preds = np.zeros((len(train_X)))\n",
    "test_preds = np.zeros((len(test_X)))\n",
    "\n",
    "x_test_cuda = torch.tensor(test_X, dtype=torch.long).cuda()\n",
    "test = torch.utils.data.TensorDataset(x_test_cuda)\n",
    "test_loader = torch.utils.data.DataLoader(test, batch_size=batch_size, shuffle=False)\n",
    "\n",
    "for i, (train_idx, valid_idx) in enumerate(splits):\n",
    "    print('Fold:{0}'.format(i))\n",
    "    x_train_fold = torch.tensor(train_X[train_idx], dtype=torch.long).cuda()\n",
    "    y_train_fold = torch.tensor(train_y[train_idx, np.newaxis], dtype=torch.float32).cuda()\n",
    "    x_val_fold = torch.tensor(train_X[valid_idx], dtype=torch.long).cuda()\n",
    "    y_val_fold = torch.tensor(train_y[valid_idx, np.newaxis], dtype=torch.float32).cuda()\n",
    "    \n",
    "    train_data = torch.utils.data.TensorDataset(x_train_fold, y_train_fold)\n",
    "    valid_data = torch.utils.data.TensorDataset(x_val_fold, y_val_fold)\n",
    "    \n",
    "    train_loader = torch.utils.data.DataLoader(train_data, batch_size=batch_size, shuffle=True)\n",
    "    valid_loader = torch.utils.data.DataLoader(valid_data, batch_size=batch_size, shuffle=False)\n",
    "    \n",
    "    model = CNN()\n",
    "    model.cuda()\n",
    "    loss_function = nn.BCEWithLogitsLoss()\n",
    "    optimiser = optim.Adam(model.parameters())\n",
    "    \n",
    "    for epoch in range(train_epochs):\n",
    "        start_time = time.time()\n",
    "        model.train()\n",
    "        avg_loss = 0.0\n",
    "        # train  model\n",
    "        for x_batch, y_batch in tqdm(train_loader, disable=True):\n",
    "            y_predicted = model(x_batch)\n",
    "            loss = loss_function(y_predicted, y_batch)\n",
    "            optimiser.zero_grad()\n",
    "            loss.backward()\n",
    "            optimiser.step()\n",
    "            avg_loss += loss.item()/len(train_loader)\n",
    "\n",
    "        # evaluate model\n",
    "        model.eval()\n",
    "        val_predicted_fold = np.zeros(x_val_fold.size(0))\n",
    "        test_predicted_fold = np.zeros(len(test_X))\n",
    "        avg_val_loss =0.0\n",
    "\n",
    "        for i, (x_batch, y_batch) in enumerate(valid_loader):\n",
    "            y_predicted = model(x_batch).detach()\n",
    "            avg_val_loss += loss_function(y_predicted, y_batch).item()/len(valid_loader)\n",
    "            val_predicted_fold[i*batch_size:(i+1)*batch_size] = sigmoid(y_predicted.cpu().numpy())[:,0]   \n",
    "\n",
    "        elapsed_time = time.time() - start_time\n",
    "        print('Epoch {}/{} \\t loss={:.4f} \\t val_loss={:.4f} \\t time={:.2f}s'.format(epoch + 1,\n",
    "                                                        train_epochs, avg_loss, avg_val_loss, elapsed_time))\n",
    "    # predict testing dataset\n",
    "    test_predicted_fold = np.zeros(len(test_X))\n",
    "    for i, (x_batch,) in enumerate(test_loader):\n",
    "        y_pred = model(x_batch).detach()\n",
    "        test_predicted_fold[i * batch_size:(i+1) * batch_size] = sigmoid(y_pred.cpu().numpy())[:, 0]\n",
    "    \n",
    "    train_preds[valid_idx] = val_predicted_fold\n",
    "    test_preds += test_predicted_fold / len(splits) # take average"
   ]
  },
  {
   "cell_type": "code",
   "execution_count": 11,
   "metadata": {},
   "outputs": [],
   "source": [
    "def threshold_search(y_true, y_proba):\n",
    "    best_threshold = 0\n",
    "    best_score = 0\n",
    "    for threshold in tqdm([i * 0.01 for i in range(100)]):\n",
    "        score = f1_score(y_true=y_true, y_pred=y_proba > threshold)\n",
    "        if score > best_score:\n",
    "            best_threshold = threshold\n",
    "            best_score = score\n",
    "    search_result = {'threshold': best_threshold, 'f1': best_score}\n",
    "    return search_result"
   ]
  },
  {
   "cell_type": "code",
   "execution_count": 12,
   "metadata": {},
   "outputs": [
    {
     "name": "stderr",
     "output_type": "stream",
     "text": [
      "100%|██████████| 100/100 [00:28<00:00,  3.28it/s]\n"
     ]
    },
    {
     "data": {
      "text/plain": [
       "{'threshold': 0.26, 'f1': 0.6307021981053987}"
      ]
     },
     "execution_count": 12,
     "metadata": {},
     "output_type": "execute_result"
    }
   ],
   "source": [
    "search_result = threshold_search(train_y, train_preds)\n",
    "search_result"
   ]
  },
  {
   "cell_type": "code",
   "execution_count": 13,
   "metadata": {},
   "outputs": [],
   "source": [
    "sub = pd.read_csv('../input/sample_submission.csv')\n",
    "sub.prediction = test_preds > search_result['threshold']\n",
    "sub.to_csv(\"submission.csv\", index=False)"
   ]
  },
  {
   "cell_type": "markdown",
   "metadata": {},
   "source": [
    "public score:0.65347"
   ]
  }
 ],
 "metadata": {
  "kernelspec": {
   "display_name": "Python 3",
   "language": "python",
   "name": "python3"
  },
  "language_info": {
   "codemirror_mode": {
    "name": "ipython",
    "version": 3
   },
   "file_extension": ".py",
   "mimetype": "text/x-python",
   "name": "python",
   "nbconvert_exporter": "python",
   "pygments_lexer": "ipython3",
   "version": "3.7.3"
  }
 },
 "nbformat": 4,
 "nbformat_minor": 1
}
