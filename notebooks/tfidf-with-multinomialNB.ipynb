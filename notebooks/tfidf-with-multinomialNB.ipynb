{
 "cells": [
  {
   "cell_type": "code",
   "execution_count": 8,
   "metadata": {},
   "outputs": [],
   "source": [
    "import pandas as pd\n",
    "from pandas import DataFrame\n",
    "import nltk\n",
    "from contextlib import contextmanager\n",
    "from sklearn.feature_extraction.text import TfidfVectorizer\n",
    "from sklearn.model_selection import StratifiedKFold\n",
    "from sklearn.naive_bayes import GaussianNB, MultinomialNB\n",
    "from nltk.tokenize import word_tokenize\n",
    "import time\n",
    "import numpy as np\n",
    "from sklearn.metrics import f1_score\n",
    "from sklearn.metrics import classification_report"
   ]
  },
  {
   "cell_type": "code",
   "execution_count": 2,
   "metadata": {},
   "outputs": [],
   "source": [
    "@contextmanager\n",
    "def timer(task_name=\"timer\"):\n",
    "    print(\"----{} started\".format(task_name))\n",
    "    t0 = time.time()\n",
    "    yield\n",
    "    print(\"----{} done in {:.0f} seconds\".format(task_name, time.time() - t0))"
   ]
  },
  {
   "cell_type": "code",
   "execution_count": 4,
   "metadata": {},
   "outputs": [
    {
     "name": "stdout",
     "output_type": "stream",
     "text": [
      "----read data started\n",
      "----read data done in 3 seconds\n"
     ]
    }
   ],
   "source": [
    "with timer('read data'):\n",
    "    train = pd.read_csv('../data/train.csv')\n",
    "    test = pd.read_csv('../data/test.csv')"
   ]
  },
  {
   "cell_type": "markdown",
   "metadata": {},
   "source": [
    "**exploration**"
   ]
  },
  {
   "cell_type": "code",
   "execution_count": 49,
   "metadata": {},
   "outputs": [
    {
     "data": {
      "text/html": [
       "<div>\n",
       "<style scoped>\n",
       "    .dataframe tbody tr th:only-of-type {\n",
       "        vertical-align: middle;\n",
       "    }\n",
       "\n",
       "    .dataframe tbody tr th {\n",
       "        vertical-align: top;\n",
       "    }\n",
       "\n",
       "    .dataframe thead th {\n",
       "        text-align: right;\n",
       "    }\n",
       "</style>\n",
       "<table border=\"1\" class=\"dataframe\">\n",
       "  <thead>\n",
       "    <tr style=\"text-align: right;\">\n",
       "      <th></th>\n",
       "      <th>qid</th>\n",
       "      <th>question_text</th>\n",
       "      <th>target</th>\n",
       "    </tr>\n",
       "  </thead>\n",
       "  <tbody>\n",
       "    <tr>\n",
       "      <th>0</th>\n",
       "      <td>00002165364db923c7e6</td>\n",
       "      <td>How did Quebec nationalists see their province...</td>\n",
       "      <td>0</td>\n",
       "    </tr>\n",
       "    <tr>\n",
       "      <th>1</th>\n",
       "      <td>000032939017120e6e44</td>\n",
       "      <td>Do you have an adopted dog, how would you enco...</td>\n",
       "      <td>0</td>\n",
       "    </tr>\n",
       "    <tr>\n",
       "      <th>2</th>\n",
       "      <td>0000412ca6e4628ce2cf</td>\n",
       "      <td>Why does velocity affect time? Does velocity a...</td>\n",
       "      <td>0</td>\n",
       "    </tr>\n",
       "    <tr>\n",
       "      <th>3</th>\n",
       "      <td>000042bf85aa498cd78e</td>\n",
       "      <td>How did Otto von Guericke used the Magdeburg h...</td>\n",
       "      <td>0</td>\n",
       "    </tr>\n",
       "    <tr>\n",
       "      <th>4</th>\n",
       "      <td>0000455dfa3e01eae3af</td>\n",
       "      <td>Can I convert montra helicon D to a mountain b...</td>\n",
       "      <td>0</td>\n",
       "    </tr>\n",
       "  </tbody>\n",
       "</table>\n",
       "</div>"
      ],
      "text/plain": [
       "                    qid                                      question_text  \\\n",
       "0  00002165364db923c7e6  How did Quebec nationalists see their province...   \n",
       "1  000032939017120e6e44  Do you have an adopted dog, how would you enco...   \n",
       "2  0000412ca6e4628ce2cf  Why does velocity affect time? Does velocity a...   \n",
       "3  000042bf85aa498cd78e  How did Otto von Guericke used the Magdeburg h...   \n",
       "4  0000455dfa3e01eae3af  Can I convert montra helicon D to a mountain b...   \n",
       "\n",
       "   target  \n",
       "0       0  \n",
       "1       0  \n",
       "2       0  \n",
       "3       0  \n",
       "4       0  "
      ]
     },
     "execution_count": 49,
     "metadata": {},
     "output_type": "execute_result"
    }
   ],
   "source": [
    "train.head()"
   ]
  },
  {
   "cell_type": "code",
   "execution_count": 54,
   "metadata": {},
   "outputs": [
    {
     "name": "stdout",
     "output_type": "stream",
     "text": [
      "1306122 375806\n",
      "1681928\n"
     ]
    }
   ],
   "source": [
    "print(len(train), len(test))\n",
    "print(len(train) + len(test))"
   ]
  },
  {
   "cell_type": "code",
   "execution_count": 55,
   "metadata": {},
   "outputs": [
    {
     "name": "stdout",
     "output_type": "stream",
     "text": [
      "target = 1: 80810\n",
      "target = 0: 1225312\n"
     ]
    }
   ],
   "source": [
    "print('target = 1:', len(df.loc[train['target'] == 1]))\n",
    "print('target = 0:', len(df.loc[train['target'] == 0]))"
   ]
  },
  {
   "cell_type": "code",
   "execution_count": 56,
   "metadata": {},
   "outputs": [
    {
     "name": "stdout",
     "output_type": "stream",
     "text": [
      "--- taret == 1 ---\n",
      "                                         question_text\n",
      "22   Has the United States become the largest dicta...\n",
      "30   Which babies are more sweeter to their parents...\n",
      "110  If blacks support school choice and mandatory ...\n",
      "114  I am gay boy and I love my cousin (boy). He is...\n",
      "115               Which races have the smallest penis?\n",
      "--- taret == 0 ---\n",
      "                                       question_text\n",
      "0  How did Quebec nationalists see their province...\n",
      "1  Do you have an adopted dog, how would you enco...\n",
      "2  Why does velocity affect time? Does velocity a...\n",
      "3  How did Otto von Guericke used the Magdeburg h...\n",
      "4  Can I convert montra helicon D to a mountain b...\n"
     ]
    }
   ],
   "source": [
    "df1 = train[['question_text']]\n",
    "print('--- taret == 1 ---')\n",
    "print(df1.loc[train['target'] == 1][:5])\n",
    "print('--- taret == 0 ---')\n",
    "print(df1.loc[train['target'] == 0][:5])"
   ]
  },
  {
   "cell_type": "code",
   "execution_count": 20,
   "metadata": {},
   "outputs": [
    {
     "name": "stdout",
     "output_type": "stream",
     "text": [
      "How did Quebec nationalists see their province as a nation in the 1960s?\n",
      "Has the United States become the largest dictatorship in the world?\n"
     ]
    }
   ],
   "source": [
    "print(df.question_text[0])\n",
    "print(df.question_text[22])"
   ]
  },
  {
   "cell_type": "markdown",
   "metadata": {},
   "source": [
    "**tfidf**"
   ]
  },
  {
   "cell_type": "markdown",
   "metadata": {},
   "source": [
    "* tokenize\n",
    "* reserve all alphabetic words\n",
    "* convert all words to lowcase forms\n",
    "* remove stopwords(sklearn)\n",
    "* stemming"
   ]
  },
  {
   "cell_type": "code",
   "execution_count": 5,
   "metadata": {},
   "outputs": [],
   "source": [
    "import Stemmer\n",
    "\n",
    "def tokenize(raw):\n",
    "    return [w.lower() for w in word_tokenize(raw) if w.isalpha()]\n",
    "\n",
    "class StemmedTfidfVectorizer(TfidfVectorizer):\n",
    "    en_stemmer = Stemmer.Stemmer('en')\n",
    "    \n",
    "    def build_analyzer(self):\n",
    "        analyzer = super(StemmedTfidfVectorizer, self).build_analyzer()\n",
    "        return lambda doc: StemmedTfidfVectorizer.en_stemmer.stemWords(analyzer(doc))"
   ]
  },
  {
   "cell_type": "code",
   "execution_count": 6,
   "metadata": {},
   "outputs": [],
   "source": [
    "tfidf = StemmedTfidfVectorizer(\n",
    "    tokenizer=tokenize, \n",
    "    analyzer=\"word\", \n",
    "    stop_words='english', \n",
    "    ngram_range=(1,1), \n",
    "    min_df=3    # limit of minimum number of counts: 3\n",
    ")"
   ]
  },
  {
   "cell_type": "code",
   "execution_count": 18,
   "metadata": {},
   "outputs": [
    {
     "name": "stdout",
     "output_type": "stream",
     "text": [
      "----tfidf train started\n",
      "----tfidf train done in 256 seconds\n"
     ]
    }
   ],
   "source": [
    "with timer('tfidf train'):\n",
    "    txt_all = pd.concat([train.question_text, test.question_text])\n",
    "    tfidf.fit(txt_all)"
   ]
  },
  {
   "cell_type": "code",
   "execution_count": 19,
   "metadata": {},
   "outputs": [
    {
     "data": {
      "text/plain": [
       "51771"
      ]
     },
     "execution_count": 19,
     "metadata": {},
     "output_type": "execute_result"
    }
   ],
   "source": [
    "len(tfidf.vocabulary_) # without setting min_df: 153886"
   ]
  },
  {
   "cell_type": "code",
   "execution_count": 21,
   "metadata": {},
   "outputs": [],
   "source": [
    "with timer('construct training dataset'):\n",
    "    X = tfidf.transform(train.question_text)\n",
    "    y = train.target.values"
   ]
  },
  {
   "cell_type": "code",
   "execution_count": 22,
   "metadata": {},
   "outputs": [],
   "source": [
    "# save the result\n",
    "with open('X_train', 'wb') as f:\n",
    "    pickle.dump(X, f)\n",
    "with open('y_train', 'wb') as f:\n",
    "    pickle.dump(y, f)\n",
    "\n",
    "# load data\n",
    "'''\n",
    "X = pickle.load(open('X_train', 'rb'))\n",
    "y = pickle.load(open('y_train', 'rb'))\n",
    "'''"
   ]
  },
  {
   "cell_type": "code",
   "execution_count": 23,
   "metadata": {},
   "outputs": [
    {
     "name": "stdout",
     "output_type": "stream",
     "text": [
      "<class 'scipy.sparse.csr.csr_matrix'>\n"
     ]
    }
   ],
   "source": [
    "print(type(X))"
   ]
  },
  {
   "cell_type": "code",
   "execution_count": 7,
   "metadata": {},
   "outputs": [
    {
     "name": "stdout",
     "output_type": "stream",
     "text": [
      "number of folds: 10\n",
      "average f1_score: 0.9440963399324996\n"
     ]
    }
   ],
   "source": [
    "skf = StratifiedKFold(n_splits=10)\n",
    "print('number of folds:', skf.get_n_splits(X, y))\n",
    "\n",
    "f1_list = []\n",
    "for train_index, test_index in skf.split(X, y):\n",
    "    clf = MultinomialNB().fit(X[train_index], y[train_index])\n",
    "    y_pred = clf.predict(X[test_index])\n",
    "    f1_list.append(f1_score(y[test_index], y_pred, average='micro'))\n",
    "\n",
    "print('average f1_score:', np.mean(f1_list))"
   ]
  },
  {
   "cell_type": "markdown",
   "metadata": {},
   "source": [
    "**classification report example**"
   ]
  },
  {
   "cell_type": "code",
   "execution_count": 10,
   "metadata": {},
   "outputs": [
    {
     "name": "stdout",
     "output_type": "stream",
     "text": [
      "              precision    recall  f1-score   support\n",
      "\n",
      "           0       0.95      0.99      0.97    122532\n",
      "           1       0.70      0.18      0.28      8081\n",
      "\n",
      "   micro avg       0.94      0.94      0.94    130613\n",
      "   macro avg       0.82      0.59      0.63    130613\n",
      "weighted avg       0.93      0.94      0.93    130613\n",
      "\n"
     ]
    }
   ],
   "source": [
    "skf = StratifiedKFold(n_splits=10)\n",
    "\n",
    "target_names = ['0', '1']\n",
    "\n",
    "for train_index, test_index in skf.split(X, y):\n",
    "    clf = MultinomialNB().fit(X[train_index], y[train_index])\n",
    "    y_pred = clf.predict(X[test_index])\n",
    "    y_true = y[test_index]\n",
    "    print(classification_report(y_true, y_pred, target_names=target_names))\n",
    "    break"
   ]
  },
  {
   "cell_type": "markdown",
   "metadata": {},
   "source": [
    "**helper**"
   ]
  },
  {
   "cell_type": "code",
   "execution_count": 3,
   "metadata": {},
   "outputs": [],
   "source": [
    "import pickle\n",
    "\n",
    "X = pickle.load(open('X_train', 'rb'))\n",
    "y = pickle.load(open('y_train', 'rb'))"
   ]
  }
 ],
 "metadata": {
  "kernelspec": {
   "display_name": "Python 3",
   "language": "python",
   "name": "python3"
  },
  "language_info": {
   "codemirror_mode": {
    "name": "ipython",
    "version": 3
   },
   "file_extension": ".py",
   "mimetype": "text/x-python",
   "name": "python",
   "nbconvert_exporter": "python",
   "pygments_lexer": "ipython3",
   "version": "3.6.5"
  }
 },
 "nbformat": 4,
 "nbformat_minor": 2
}
